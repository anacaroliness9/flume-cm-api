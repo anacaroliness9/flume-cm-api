{
 "cells": [
  {
   "cell_type": "markdown",
   "metadata": {},
   "source": [
    "# Creating and Starting Flueme Agent through Cloudera Manager API\n",
    "\n",
    "Documentation:\n",
    "* https://cloudera.github.io/cm_api/docs/python-client-swagger/\n",
    "* https://archive.cloudera.com/cm7/7.0.3/generic/jar/cm_api/swagger-html-sdk-docs/python/README.html\n",
    "* https://archive.cloudera.com/cm6/6.0.0/generic/jar/cm_api/apidocs/json_ApiServiceList.html\n"
   ]
  },
  {
   "cell_type": "code",
   "execution_count": 1,
   "metadata": {},
   "outputs": [],
   "source": [
    "#import cm_client\n",
    "#from cm_client.rest import ApiException\n",
    "from pprint import pprint\n",
    "from requests.auth import HTTPBasicAuth\n",
    "from codecs import decode\n",
    "import requests\n",
    "import json\n",
    "import time\n",
    "import datetime"
   ]
  },
  {
   "cell_type": "markdown",
   "metadata": {},
   "source": [
    "### Necessary Information to execute API\n",
    "Finding out the CM API version and Cluster Name"
   ]
  },
  {
   "cell_type": "code",
   "execution_count": 2,
   "metadata": {},
   "outputs": [],
   "source": [
    "cm_server = 'localhost'\n",
    "cm_port = '7180'\n",
    "api_uri = 'http://{0}:{1}'.format(cm_server,cm_port)\n",
    "api_version = ''\n",
    "cluster_name = ''\n",
    "free_port = ''\n",
    "cm_user= 'admin'\n",
    "cm_pass= 'admin'"
   ]
  },
  {
   "cell_type": "code",
   "execution_count": 3,
   "metadata": {},
   "outputs": [],
   "source": [
    "def api_cm_get(url):\n",
    "    response = requests.get(url, auth=HTTPBasicAuth(cm_user, cm_pass))\n",
    "    services = response.content.decode('UTF-8')\n",
    "    try:\n",
    "        return  json.loads(services)\n",
    "    except ValueError:\n",
    "        return services\n",
    "    return result\n",
    "\n",
    "def api_cm_post(url, body=None):\n",
    "    response = requests.post(url,json=body, auth=HTTPBasicAuth(cm_user, cm_pass))\n",
    "    services = response.content.decode('UTF-8')\n",
    "    print(services)\n",
    "    try:\n",
    "        return  json.loads(services)\n",
    "    except ValueError:\n",
    "        return services\n",
    "    return result\n",
    "\n",
    "def api_cm_delete(url):\n",
    "    response = requests.delete(url, auth=HTTPBasicAuth(cm_user, cm_pass))\n",
    "    services = response.content.decode('UTF-8')\n",
    "    try:\n",
    "        return  json.loads(services)\n",
    "    except ValueError:\n",
    "        return services\n",
    "    return result\n",
    "\n",
    "def get_api_version():\n",
    "    response = api_cm_get(api_uri + '/api/version')\n",
    "    return response\n",
    "\n",
    "def get_cluster_name():\n",
    "    result =  api_cm_get('{uri}/api/{version}/clusters'.format(uri=api_uri, version=api_version))\n",
    "    return result['items'][0]['name']"
   ]
  },
  {
   "cell_type": "code",
   "execution_count": 4,
   "metadata": {},
   "outputs": [],
   "source": [
    "api_version = get_api_version()\n",
    "cluster_name = get_cluster_name()"
   ]
  },
  {
   "cell_type": "code",
   "execution_count": 5,
   "metadata": {},
   "outputs": [
    {
     "data": {
      "text/plain": [
       "'v18'"
      ]
     },
     "execution_count": 5,
     "metadata": {},
     "output_type": "execute_result"
    }
   ],
   "source": [
    "get_api_version()"
   ]
  },
  {
   "cell_type": "code",
   "execution_count": 6,
   "metadata": {},
   "outputs": [
    {
     "data": {
      "text/plain": [
       "'cluster'"
      ]
     },
     "execution_count": 6,
     "metadata": {},
     "output_type": "execute_result"
    }
   ],
   "source": [
    "get_cluster_name()"
   ]
  },
  {
   "cell_type": "markdown",
   "metadata": {},
   "source": [
    "### Available Port\n",
    "Methods created to find out the next port available to use the new flume agent"
   ]
  },
  {
   "cell_type": "code",
   "execution_count": 7,
   "metadata": {},
   "outputs": [],
   "source": [
    "def get_all_flumes():\n",
    "    results = api_cm_get('{uri}/api/{version}/clusters/{cluster}/services?view=full'\n",
    "               .format(uri=api_uri, version=api_version, cluster = cluster_name))\n",
    "    flumes = list(filter(lambda d: d[\"type\"] == 'FLUME', results[\"items\"]))\n",
    "    flumes_names = [x['name'] for x in flumes ]\n",
    "    return flumes_names\n",
    "\n",
    "def get_flume_agents_names(flume_name):\n",
    "    result = api_cm_get('{uri}/api/{version}/clusters/{cluster}/services/{flume}/roles'\n",
    "                        .format(uri=api_uri, version=api_version, cluster = cluster_name, flume=flume_name))\n",
    "    agents = list(filter(lambda d: d[\"type\"] == 'AGENT', result[\"items\"]))\n",
    "    agents_names = [a[\"name\"] for a in agents]\n",
    "    return agents_names   \n",
    "\n",
    "def get_port_list():\n",
    "    flumes = get_all_flumes()\n",
    "    #agents = sum([get_flume_agents_names(f) for f in flumes], []) \n",
    "    #ports = [a[\"agent_http_port\"] for a in agents[\"items\"]]\n",
    "    ports_configs = list()\n",
    "    ports = list()\n",
    "    for f in flumes:\n",
    "        agents = get_flume_agents_names(f)\n",
    "        for a in agents:\n",
    "            configs_flume = api_cm_get('{uri}/api/{version}/clusters/{cluster}/services/{flume}/roles/{agent}/config?view=full'\n",
    "                .format(uri=api_uri, version=api_version, cluster=cluster_name, flume=f, agent=a))\n",
    "            ports_configs.append(list(filter(lambda d : d[\"name\"] == 'agent_http_port', configs_flume[\"items\"])))\n",
    "    ports_configs = sum(ports_configs,[])\n",
    "    for p in ports_configs:\n",
    "        #quando o agente flume está usando a porta default ele nao cria a propriedade com o valor da porta ('value')\n",
    "        if 'value' in p:\n",
    "            ports.append(p['value'])\n",
    "    return ports\n",
    "\n",
    "'''\n",
    "Esse método busca todas as portas que está sendo utilizada pelos agentes flumes existentes\n",
    "e verifica o maior valor, após isso retorna o maior valor + 1.\n",
    "\n",
    "'''\n",
    "def get_new_port():\n",
    "    ports = get_port_list()\n",
    "    return max(map(int,ports)) + 1"
   ]
  },
  {
   "cell_type": "code",
   "execution_count": 8,
   "metadata": {},
   "outputs": [
    {
     "data": {
      "text/plain": [
       "['flume',\n",
       " 'flume2',\n",
       " 'flume3',\n",
       " 'flume_python',\n",
       " 'flume_pythont2',\n",
       " 'flume_python2',\n",
       " 'flume_testcycleexport']"
      ]
     },
     "execution_count": 8,
     "metadata": {},
     "output_type": "execute_result"
    }
   ],
   "source": [
    "get_all_flumes()"
   ]
  },
  {
   "cell_type": "code",
   "execution_count": 9,
   "metadata": {},
   "outputs": [],
   "source": [
    "free_port = get_new_port()"
   ]
  },
  {
   "cell_type": "markdown",
   "metadata": {},
   "source": [
    "### Criar nova instância do Flume e seu Agente"
   ]
  },
  {
   "cell_type": "markdown",
   "metadata": {},
   "source": [
    "#### Agent Config"
   ]
  },
  {
   "cell_type": "code",
   "execution_count": 35,
   "metadata": {},
   "outputs": [],
   "source": [
    "flume_agent_conf = '''\n",
    "\n",
    "################## flume_test ##################\n",
    "\n",
    "flume_test.sources = src_to_teste\n",
    "flume_test.channels = channel_to_teste\n",
    "flume_test.sinks = sink_to_teste\n",
    "\n",
    "######### Spooldir Source #########\n",
    "flume_test.sources.src_to_teste.type = spooldir\n",
    "flume_test.sources.src_to_teste.channels = channel_to_teste\n",
    "flume_test.sources.src_to_teste.spoolDir = /data/in\n",
    "flume_test.sources.src_to_teste.fileHeader = true\n",
    "flume_test.sources.src_to_teste.basenameHeader = true\n",
    "flume_test.sources.src_to_teste.includePattern = ^.*.xml$\n",
    "flume_test.sources.src_to_teste.trackerDir = .flume_test_xml\n",
    "flume_test.sources.src_to_teste.deserializer = org.apache.flume.sink.solr.morphline.BlobDeserializer$Builder\n",
    "flume_test.sources.src_to_teste.deserializer.maxBlobLength = 400000000\n",
    "\n",
    "######### Memory Channel #########\n",
    "flume_test.channels.channel_to_teste.type = memory\n",
    "flume_test.channels.channel_to_teste.capacity = 1073741824\n",
    "\n",
    "######### HDFS Sink #########\n",
    "flume_test.sinks.sink_to_teste.type = hdfs\n",
    "flume_test.sinks.sink_to_teste.hdfs.kerberosPrincipal = hdfs\n",
    "flume_test.sinks.sink_to_teste.hdfs.kerberosKeytab = /home/user/hdfs.keytab\n",
    "flume_test.sinks.sink_to_teste.hdfs.fileType = DataStream\n",
    "flume_test.sinks.sink_to_teste.hdfs.path = /data/teste\n",
    "flume_test.sinks.sink_to_teste.hdfs.filePrefix = testcycleexport_%Y%m%d\n",
    "flume_test.sinks.sink_to_teste.hdfs.fileSuffix = .txt\n",
    "flume_test.sinks.sink_to_teste.hdfs.rollInterval = 300\n",
    "flume_test.sinks.sink_to_teste.hdfs.idleTimeout= 0\n",
    "flume_test.sinks.sink_to_teste.hdfs.callTimeout= 120000 \n",
    "flume_test.sinks.sink_to_teste.hdfs.useLocalTimeStamp = true\n",
    "flume_test.sinks.sink_to_teste.hdfs.rollSize = 1073741824\n",
    "flume_test.sinks.sink_to_teste.hdfs.rollCount = 0\n",
    "flume_test.sinks.sink_to_teste.channel = channel_to_teste\n",
    "flume_test.sinks.sink_to_teste.hdfs.closeTries = 0\n",
    "'''"
   ]
  },
  {
   "cell_type": "markdown",
   "metadata": {},
   "source": [
    "#### Create Flume Config  - API \n",
    "Flume API Properties: https://docs.cloudera.com/documentation/enterprise/5-5-x/topics/cm_props_cdh540_flume.html#concept_5.5.x_service_wide_props"
   ]
  },
  {
   "cell_type": "code",
   "execution_count": 36,
   "metadata": {},
   "outputs": [],
   "source": [
    "flume_name = 'flume_python_new'\n",
    "flume_host = 'lab-dev-master-00.eastus.cloudapp.azure.com'\n",
    "agent_name = 'flume_agent_python'\n",
    "\n",
    "create_flume_cm_config = {\n",
    "  \"items\": [\n",
    "    {\n",
    "      \"name\": flume_name,\n",
    "      \"displayName\": flume_name,\n",
    "      \"type\": \"FLUME\",\n",
    "      \"config\": {\n",
    "        \"items\": [\n",
    "          {\n",
    "            \"name\": \"hdfs_service\",\n",
    "            \"value\": \"hdfs\"\n",
    "          },\n",
    "          {\n",
    "            \"name\": \"flume_env_safety_valve\",\n",
    "            \"value\": \"HADOOP_HOME=/usr/lib/hadoop\"\n",
    "          }\n",
    "        ]\n",
    "      },\n",
    "      \"roles\": [\n",
    "        {\n",
    "          \"name\": \"agent_\" + flume_name,\n",
    "          \"type\": \"AGENT\",\n",
    "          \"hostRef\": {\n",
    "            \"hostId\": flume_host\n",
    "          },\n",
    "          \"config\": {\n",
    "            \"items\": [\n",
    "              {\n",
    "                \"name\": \"agent_name\",\n",
    "                \"value\": agent_name\n",
    "              },\n",
    "              {\n",
    "                \"name\": \"agent_config_file\",\n",
    "                \"value\": flume_agent_conf\n",
    "              },\n",
    "              {\n",
    "                \"name\": \"flume_agent_java_opts\",\n",
    "                \"value\": \"-Xmx6g -Dorg.apache.flume.log.printconfig=true\"\n",
    "              },\n",
    "              {\n",
    "                \"name\": \"agent_http_port\",\n",
    "                \"value\": free_port\n",
    "              }\n",
    "            ]\n",
    "          }\n",
    "        }\n",
    "      ]\n",
    "    }\n",
    "  ]\n",
    "}"
   ]
  },
  {
   "cell_type": "code",
   "execution_count": 37,
   "metadata": {},
   "outputs": [
    {
     "data": {
      "text/plain": [
       "{'items': [{'name': 'flume_python_new',\n",
       "   'displayName': 'flume_python_new',\n",
       "   'type': 'FLUME',\n",
       "   'config': {'items': [{'name': 'hdfs_service', 'value': 'hdfs'},\n",
       "     {'name': 'flume_env_safety_valve',\n",
       "      'value': 'HADOOP_HOME=/usr/lib/hadoop'}]},\n",
       "   'roles': [{'name': 'agent_flume_python_new',\n",
       "     'type': 'AGENT',\n",
       "     'hostRef': {'hostId': 'lab-dev-master-00.eastus.cloudapp.azure.com'},\n",
       "     'config': {'items': [{'name': 'agent_name',\n",
       "        'value': 'flume_agent_python'},\n",
       "       {'name': 'agent_config_file',\n",
       "        'value': '\\n\\n################## flume_test ##################\\n\\nflume_test.sources = src_to_teste\\nflume_test.channels = channel_to_teste\\nflume_test.sinks = sink_to_teste\\n\\n######### Spooldir Source #########\\nflume_test.sources.src_to_teste.type = spooldir\\nflume_test.sources.src_to_teste.channels = channel_to_teste\\nflume_test.sources.src_to_teste.spoolDir = /data/in\\nflume_test.sources.src_to_teste.fileHeader = true\\nflume_test.sources.src_to_teste.basenameHeader = true\\nflume_test.sources.src_to_teste.includePattern = ^.*.xml$\\nflume_test.sources.src_to_teste.trackerDir = .flume_test_xml\\nflume_test.sources.src_to_teste.deserializer = org.apache.flume.sink.solr.morphline.BlobDeserializer$Builder\\nflume_test.sources.src_to_teste.deserializer.maxBlobLength = 400000000\\n\\n######### Memory Channel #########\\nflume_test.channels.channel_to_teste.type = memory\\nflume_test.channels.channel_to_teste.capacity = 1073741824\\n\\n######### HDFS Sink #########\\nflume_test.sinks.sink_to_teste.type = hdfs\\nflume_test.sinks.sink_to_teste.hdfs.kerberosPrincipal = hdfs\\nflume_test.sinks.sink_to_teste.hdfs.kerberosKeytab = /home/user/hdfs.keytab\\nflume_test.sinks.sink_to_teste.hdfs.fileType = DataStream\\nflume_test.sinks.sink_to_teste.hdfs.path = /data/teste\\nflume_test.sinks.sink_to_teste.hdfs.filePrefix = testcycleexport_%Y%m%d\\nflume_test.sinks.sink_to_teste.hdfs.fileSuffix = .txt\\nflume_test.sinks.sink_to_teste.hdfs.rollInterval = 300\\nflume_test.sinks.sink_to_teste.hdfs.idleTimeout= 0\\nflume_test.sinks.sink_to_teste.hdfs.callTimeout= 120000 \\nflume_test.sinks.sink_to_teste.hdfs.useLocalTimeStamp = true\\nflume_test.sinks.sink_to_teste.hdfs.rollSize = 1073741824\\nflume_test.sinks.sink_to_teste.hdfs.rollCount = 0\\nflume_test.sinks.sink_to_teste.channel = channel_to_teste\\nflume_test.sinks.sink_to_teste.hdfs.closeTries = 0\\n'},\n",
       "       {'name': 'flume_agent_java_opts',\n",
       "        'value': '-Xmx6g -Dorg.apache.flume.log.printconfig=true'},\n",
       "       {'name': 'agent_http_port', 'value': 41422}]}}]}]}"
      ]
     },
     "execution_count": 37,
     "metadata": {},
     "output_type": "execute_result"
    }
   ],
   "source": [
    "create_flume_cm_config"
   ]
  },
  {
   "cell_type": "markdown",
   "metadata": {},
   "source": [
    "#### Calling the API to create"
   ]
  },
  {
   "cell_type": "code",
   "execution_count": 13,
   "metadata": {},
   "outputs": [],
   "source": [
    "def create_new_agent_flume(flume_cm_config):\n",
    "    response = api_cm_post('{uri}/api/{version}/clusters/{cluster}/services'\n",
    "                            .format(uri=api_uri,version=api_version, cluster=cluster_name),\n",
    "                            body = flume_cm_config)    \n",
    "    if \"items\" in response:\n",
    "        print(\"Agente Flume {0} criado com sucesso!\".format(flume_name))\n",
    "    else:\n",
    "        print(\"Falha na criação do agente flume {0}:\\n{1}\"\n",
    "              .format(flume_name, json.dumps(response, indent=4)))\n",
    "           "
   ]
  },
  {
   "cell_type": "code",
   "execution_count": 14,
   "metadata": {
    "scrolled": true
   },
   "outputs": [
    {
     "name": "stdout",
     "output_type": "stream",
     "text": [
      "{\n",
      "  \"items\" : [ {\n",
      "    \"name\" : \"flume_python_new\",\n",
      "    \"type\" : \"FLUME\",\n",
      "    \"clusterRef\" : {\n",
      "      \"clusterName\" : \"cluster\"\n",
      "    },\n",
      "    \"serviceUrl\" : \"http://lab-dev-master-00.eastus.cloudapp.azure.com:7180/cmf/serviceRedirect/flume_python_new\",\n",
      "    \"roleInstancesUrl\" : \"http://lab-dev-master-00.eastus.cloudapp.azure.com:7180/cmf/serviceRedirect/flume_python_new/instances\",\n",
      "    \"serviceState\" : \"STOPPED\",\n",
      "    \"configStalenessStatus\" : \"FRESH\",\n",
      "    \"clientConfigStalenessStatus\" : \"FRESH\",\n",
      "    \"maintenanceMode\" : false,\n",
      "    \"maintenanceOwners\" : [ ],\n",
      "    \"displayName\" : \"flume_python_new\",\n",
      "    \"entityStatus\" : \"UNKNOWN\"\n",
      "  } ]\n",
      "}\n",
      "Agente Flume flume_python_new criado com sucesso!\n"
     ]
    }
   ],
   "source": [
    "create_new_agent_flume(create_flume_cm_config)"
   ]
  },
  {
   "cell_type": "markdown",
   "metadata": {},
   "source": [
    "#### Mensagem possíves ao criar o Flume\n",
    "\n",
    "* Quando não a erro:\n",
    "\n",
    "```json\n",
    "{\n",
    "      \"items\" : [ {\n",
    "            \"name\" : \"flume_python\",\n",
    "            \"type\" : \"FLUME\",\n",
    "            \"clusterRef\" : {\n",
    "              \"clusterName\" : \"cluster\"\n",
    "            },\n",
    "            \"serviceUrl\" : \"http://lab-dev-master-00.eastus.cloudapp.azure.com:7180/cmf/serviceRedirect/flume_pythont\",\n",
    "            \"roleInstancesUrl\" : \"http://lab-dev-master-00.eastus.cloudapp.azure.com:7180/cmf/serviceRedirect/flume_pythont/instances\",\n",
    "            \"serviceState\" : \"STOPPED\",\n",
    "            \"configStalenessStatus\" : \"FRESH\",\n",
    "            \"clientConfigStalenessStatus\" : \"FRESH\",\n",
    "            \"maintenanceMode\" : false,\n",
    "            \"maintenanceOwners\" : [ ],\n",
    "            \"displayName\" : \"flume_python\",\n",
    "            \"entityStatus\" : \"UNKNOWN\"\n",
    "      } ]\n",
    "}\n",
    "```\n",
    "\n",
    "* Quando da erro:\n",
    "    * Ja existe um **Flume** com esse nome\n",
    "    ```json\n",
    "    {\n",
    "          \"message\" : \"Duplicate entry 'flume_pythont' for key 'NAME'\",\n",
    "          \"causes\" : [ \"Duplicate entry 'flume_pythont' for key 'NAME'\" ]\n",
    "    }\n",
    "    ```\n",
    "    * Ja existe um **Agente Flume** com esse nome\n",
    "    ```json\n",
    "    {\n",
    "          \"message\" : \"Duplicate role name 'agent-test'.\"\n",
    "    }\n",
    "    ```\n",
    "    * Sintaxe errada no body\n",
    "    ```json\n",
    "    {\n",
    "          \"message\" : \"Unexpected character ('\\\"' (code 34)): was expecting comma to separate OBJECT entries\\n at [Source: org.apache.cxf.transport.http.AbstractHTTPDestination$1@78e45b69; line: 1, column: 290]\"\n",
    "    }\n",
    "    ```\n",
    "    * Atributo dentro do dicionario **\"config\": { \"items\"** nao existente\n",
    "    ```json\n",
    "    {\n",
    "          \"message\" : \"Unknown configuration attribute 'agent_namex'.\"\n",
    "    }\n",
    "    ```\n",
    "    "
   ]
  },
  {
   "cell_type": "markdown",
   "metadata": {},
   "source": [
    "### Check Flume Status"
   ]
  },
  {
   "cell_type": "code",
   "execution_count": 15,
   "metadata": {},
   "outputs": [
    {
     "data": {
      "text/plain": [
       "'flume_python_new'"
      ]
     },
     "execution_count": 15,
     "metadata": {},
     "output_type": "execute_result"
    }
   ],
   "source": [
    "flume_name"
   ]
  },
  {
   "cell_type": "code",
   "execution_count": 16,
   "metadata": {},
   "outputs": [],
   "source": [
    "def get_flume_status(flume_name):\n",
    "    try:\n",
    "        result = api_cm_get('{uri}/api/{version}/clusters/{cluster}/services/{flume}'\n",
    "                            .format(uri=api_uri,version=api_version, cluster=cluster_name, flume=flume_name))\n",
    "        return result['serviceState']\n",
    "    except KeyError:\n",
    "        print(\"Agente Flume {0} não existe!\".format(flume_name))"
   ]
  },
  {
   "cell_type": "code",
   "execution_count": 17,
   "metadata": {
    "scrolled": true
   },
   "outputs": [
    {
     "data": {
      "text/plain": [
       "'STARTED'"
      ]
     },
     "execution_count": 17,
     "metadata": {},
     "output_type": "execute_result"
    }
   ],
   "source": [
    "get_flume_status('flume_python2')"
   ]
  },
  {
   "cell_type": "markdown",
   "metadata": {},
   "source": [
    "### Flume Starting"
   ]
  },
  {
   "cell_type": "code",
   "execution_count": 18,
   "metadata": {},
   "outputs": [],
   "source": [
    "def start_flume(flume_name):\n",
    "    #print(datetime.datetime.now())\n",
    "    response = api_cm_post('{uri}/api/{version}/clusters/{cluster}/services/{flume}/commands/start'\n",
    "                            .format(uri=api_uri,version=api_version, cluster=cluster_name, flume=flume_name))\n",
    "\n",
    "    if \"active\" in response:\n",
    "        if response[\"active\"] == True:\n",
    "            while (get_flume_status(flume_name) == 'STARTING'):\n",
    "                time.sleep(3)\n",
    "            print(\"Agente Flume {0} iniciado com sucesso!\".format(flume_name))\n",
    "        else:\n",
    "            print(\"Agente Flume {0} já estava iniciado.\".format(flume_name))\n",
    "    else:\n",
    "        print(\"Falha na inicialização do agente flume {0}:\\n{1}\"\n",
    "              .format(flume_name, json.dumps(response, indent=4)))\n",
    "    #print(datetime.datetime.now())"
   ]
  },
  {
   "cell_type": "code",
   "execution_count": 19,
   "metadata": {},
   "outputs": [
    {
     "name": "stdout",
     "output_type": "stream",
     "text": [
      "{\n",
      "  \"id\" : 6916,\n",
      "  \"name\" : \"Start\",\n",
      "  \"startTime\" : \"2020-01-23T14:03:38.785Z\",\n",
      "  \"active\" : true,\n",
      "  \"serviceRef\" : {\n",
      "    \"clusterName\" : \"cluster\",\n",
      "    \"serviceName\" : \"flume_python_new\"\n",
      "  }\n",
      "}\n",
      "Agente Flume flume_python_new iniciado com sucesso!\n"
     ]
    }
   ],
   "source": [
    "start_flume(flume_name)"
   ]
  },
  {
   "cell_type": "code",
   "execution_count": 20,
   "metadata": {},
   "outputs": [
    {
     "data": {
      "text/plain": [
       "'STARTED'"
      ]
     },
     "execution_count": 20,
     "metadata": {},
     "output_type": "execute_result"
    }
   ],
   "source": [
    "get_flume_status(flume_name)"
   ]
  },
  {
   "cell_type": "markdown",
   "metadata": {},
   "source": [
    "#### Mensagem possíves ao iniciar o Flume\n",
    "\n",
    "* Quando não a erro:\n",
    "\n",
    "```json\n",
    "{\n",
    "      \"id\" : 6236,\n",
    "      \"name\" : \"Start\",\n",
    "      \"startTime\" : \"2020-01-15T01:12:16.854Z\",\n",
    "      \"active\" : true,\n",
    "      \"serviceRef\" : {\n",
    "            \"clusterName\" : \"cluster\",\n",
    "            \"serviceName\" : \"flume_python\"\n",
    "      }\n",
    "}\n",
    "```\n",
    "\n",
    "* Quando da erro:\n",
    "    * O Flume ja foi iniciado\n",
    "    ```json\n",
    "    {\n",
    "          \"id\" : 6239,\n",
    "          \"name\" : \"Start\",\n",
    "          \"startTime\" : \"2020-01-15T01:12:49.595Z\",\n",
    "          \"endTime\" : \"2020-01-15T01:12:49.595Z\",\n",
    "          \"active\" : false,\n",
    "          \"success\" : false,\n",
    "          \"resultMessage\" : \"Command Start is not currently available for execution.\",\n",
    "          \"serviceRef\" : {\n",
    "                \"clusterName\" : \"cluster\",\n",
    "                \"serviceName\" : \"flume_python\"\n",
    "          }\n",
    "    }\n",
    "    ```\n",
    "    * Flume nao existente\n",
    "    ```json\n",
    "    {\n",
    "          \"message\" : \"Service 'flume_pythontf2' not found in cluster 'cluster'.\"\n",
    "    }\n",
    "    ```\n",
    "    "
   ]
  },
  {
   "cell_type": "code",
   "execution_count": 21,
   "metadata": {},
   "outputs": [],
   "source": [
    "def stop_flume(flume_name):\n",
    "    response = api_cm_post('{uri}/api/{version}/clusters/{cluster}/services/{flume}/commands/stop'\n",
    "                            .format(uri=api_uri,version=api_version, cluster=cluster_name, flume=flume_name))\n",
    "    \n",
    "    if \"active\" in response:\n",
    "        if response[\"active\"] == True:\n",
    "            print(\"Agente Flume {0} parado com sucesso!\".format(flume_name))\n",
    "        else:\n",
    "            print(\"Agente Flume {0} já estava parado.\".format(flume_name))\n",
    "    else:\n",
    "        print(\"Falha na execução de parada do agente flume {0}:\\n{1}\"\n",
    "              .format(flume_name, json.dumps(response, indent=4)))\n",
    "    "
   ]
  },
  {
   "cell_type": "code",
   "execution_count": 22,
   "metadata": {},
   "outputs": [
    {
     "name": "stdout",
     "output_type": "stream",
     "text": [
      "{\n",
      "  \"id\" : 6919,\n",
      "  \"name\" : \"Stop\",\n",
      "  \"startTime\" : \"2020-01-23T14:04:03.024Z\",\n",
      "  \"active\" : true,\n",
      "  \"serviceRef\" : {\n",
      "    \"clusterName\" : \"cluster\",\n",
      "    \"serviceName\" : \"flume_python_new\"\n",
      "  }\n",
      "}\n",
      "Agente Flume flume_python_new parado com sucesso!\n"
     ]
    }
   ],
   "source": [
    "stop_flume(flume_name)"
   ]
  },
  {
   "cell_type": "code",
   "execution_count": 23,
   "metadata": {
    "scrolled": true
   },
   "outputs": [
    {
     "data": {
      "text/plain": [
       "'STOPPED'"
      ]
     },
     "execution_count": 23,
     "metadata": {},
     "output_type": "execute_result"
    }
   ],
   "source": [
    "get_flume_status('flume_python')"
   ]
  },
  {
   "cell_type": "code",
   "execution_count": 24,
   "metadata": {},
   "outputs": [],
   "source": [
    "def restart_flume(flume_name):\n",
    "    stop_flume(flume_name)\n",
    "    time.sleep(5)\n",
    "    start_flume(flume_name)"
   ]
  },
  {
   "cell_type": "code",
   "execution_count": 25,
   "metadata": {},
   "outputs": [
    {
     "name": "stdout",
     "output_type": "stream",
     "text": [
      "{\n",
      "  \"id\" : 6921,\n",
      "  \"name\" : \"Stop\",\n",
      "  \"startTime\" : \"2020-01-23T14:04:03.647Z\",\n",
      "  \"endTime\" : \"2020-01-23T14:04:03.647Z\",\n",
      "  \"active\" : false,\n",
      "  \"success\" : false,\n",
      "  \"resultMessage\" : \"At least one role must be started.\",\n",
      "  \"serviceRef\" : {\n",
      "    \"clusterName\" : \"cluster\",\n",
      "    \"serviceName\" : \"flume_python_new\"\n",
      "  }\n",
      "}\n",
      "Agente Flume flume_python_new já estava parado.\n",
      "{\n",
      "  \"id\" : 6922,\n",
      "  \"name\" : \"Start\",\n",
      "  \"startTime\" : \"2020-01-23T14:04:08.963Z\",\n",
      "  \"active\" : true,\n",
      "  \"serviceRef\" : {\n",
      "    \"clusterName\" : \"cluster\",\n",
      "    \"serviceName\" : \"flume_python_new\"\n",
      "  }\n",
      "}\n",
      "Agente Flume flume_python_new iniciado com sucesso!\n"
     ]
    }
   ],
   "source": [
    "restart_flume(flume_name)"
   ]
  },
  {
   "cell_type": "markdown",
   "metadata": {},
   "source": [
    "---------------"
   ]
  },
  {
   "cell_type": "markdown",
   "metadata": {},
   "source": [
    "### Deleting Flume Agent"
   ]
  },
  {
   "cell_type": "code",
   "execution_count": 26,
   "metadata": {},
   "outputs": [
    {
     "data": {
      "text/plain": [
       "'STARTED'"
      ]
     },
     "execution_count": 26,
     "metadata": {},
     "output_type": "execute_result"
    }
   ],
   "source": [
    "get_flume_status(flume_name)"
   ]
  },
  {
   "cell_type": "code",
   "execution_count": 27,
   "metadata": {},
   "outputs": [],
   "source": [
    "def delete_agent_flume(flume_name):\n",
    "    if get_flume_status(flume_name) is not 'STOPPED':\n",
    "        stop_flume(flume_name)\n",
    "    while (get_flume_status(flume_name) == 'STOPPING'):\n",
    "        time.sleep(3)\n",
    "    response = api_cm_delete('{uri}/api/{version}/clusters/{cluster}/services/{flume}'\n",
    "                            .format(uri=api_uri,version=api_version, cluster=cluster_name, flume=flume_name))\n",
    "    if \"name\" in response:\n",
    "        print(\"Agente Flume {0} deletado com sucesso!\".format(flume_name))\n",
    "    else:\n",
    "        print(\"Falha na remoção do agente flume {0}:\\n{1}\"\n",
    "              .format(flume_name, json.dumps(response, indent=4)))"
   ]
  },
  {
   "cell_type": "code",
   "execution_count": 28,
   "metadata": {},
   "outputs": [
    {
     "name": "stdout",
     "output_type": "stream",
     "text": [
      "{\n",
      "  \"id\" : 6926,\n",
      "  \"name\" : \"Stop\",\n",
      "  \"startTime\" : \"2020-01-23T14:04:34.261Z\",\n",
      "  \"active\" : true,\n",
      "  \"serviceRef\" : {\n",
      "    \"clusterName\" : \"cluster\",\n",
      "    \"serviceName\" : \"flume_python_new\"\n",
      "  }\n",
      "}\n",
      "Agente Flume flume_python_new parado com sucesso!\n",
      "Agente Flume flume_python_new deletado com sucesso!\n"
     ]
    }
   ],
   "source": [
    "delete_agent_flume(flume_name)"
   ]
  },
  {
   "cell_type": "code",
   "execution_count": null,
   "metadata": {},
   "outputs": [],
   "source": []
  }
 ],
 "metadata": {
  "kernelspec": {
   "display_name": "Python 3",
   "language": "python",
   "name": "python3"
  },
  "language_info": {
   "codemirror_mode": {
    "name": "ipython",
    "version": 3
   },
   "file_extension": ".py",
   "mimetype": "text/x-python",
   "name": "python",
   "nbconvert_exporter": "python",
   "pygments_lexer": "ipython3",
   "version": "3.7.3"
  }
 },
 "nbformat": 4,
 "nbformat_minor": 2
}
